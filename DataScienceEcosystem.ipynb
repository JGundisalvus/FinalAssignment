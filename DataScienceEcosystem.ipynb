{
 "cells": [
  {
   "cell_type": "markdown",
   "id": "e48a552f-e43c-4fed-8e76-6ede6eb7ecad",
   "metadata": {
    "tags": []
   },
   "source": [
    "# Data Science Tools and Ecosystem"
   ]
  },
  {
   "cell_type": "markdown",
   "id": "e72e19c6-da36-45aa-a12f-b3523d1ef472",
   "metadata": {},
   "source": [
    "In this notebook, Data Science Tools and Ecosystem are summarized."
   ]
  },
  {
   "cell_type": "markdown",
   "id": "59711ba1-dd8b-4be0-be5e-fe1080043412",
   "metadata": {},
   "source": [
    "**Objectives:**\n",
    "* Learn about the various libraries used in data science\n",
    "* Learn about popular languages for data science\n",
    "* Review Jupyter architecture and how to work with different kernels\n",
    "* Learn about RStudio and R visualization packages\n",
    "* Become familiar with Git workflows involving branches, pull requests, & merges"
   ]
  },
  {
   "cell_type": "markdown",
   "id": "83e2d8d0-3f9b-491e-bbb9-187944922d20",
   "metadata": {},
   "source": [
    "Some of the popular languages that Data Scientists use are:"
   ]
  },
  {
   "cell_type": "markdown",
   "id": "77e3a37a-6886-4be3-a810-9d3f6e18110a",
   "metadata": {
    "tags": []
   },
   "source": [
    "1. Python\n",
    "2. R\n",
    "3. SQL\n",
    "4. Scala\n",
    "5. Julia"
   ]
  },
  {
   "cell_type": "markdown",
   "id": "ab7212c1-91db-430e-b216-ca61a946be3b",
   "metadata": {
    "tags": []
   },
   "source": [
    "Some of the commonly used libraries used by Data Scientists include:"
   ]
  },
  {
   "cell_type": "markdown",
   "id": "5a6300a8-2954-491a-ad52-167154ffeb43",
   "metadata": {
    "tags": []
   },
   "source": [
    "1. Pandas\n",
    "2. NumPy\n",
    "3. Matplotlib\n",
    "4. Seaborn\n",
    "5. Scikit-learn\n",
    "6. Keras\n",
    "7. TensorFlow\n",
    "8. PyTorch\n",
    "9. Apache Spark\n",
    "10. Vegas\n",
    "11. Big DL\n",
    "12. ggplot2"
   ]
  },
  {
   "cell_type": "markdown",
   "id": "3cfdef11-d076-49e0-9566-1e44b4909ecb",
   "metadata": {
    "tags": []
   },
   "source": [
    "|Data Science Tools|\n",
    "|---|\n",
    "|RStudio|\n",
    "|Anaconda|\n",
    "|Jupyer Notebooks|\n",
    "|JupyterLab|\n",
    "|Git / GitHub|\n",
    "\n"
   ]
  },
  {
   "cell_type": "markdown",
   "id": "25b306db-69f0-4db6-badc-13e612724e17",
   "metadata": {
    "tags": []
   },
   "source": [
    "### Below are a few examples of evaluating arithmetic expressions in Python"
   ]
  },
  {
   "cell_type": "markdown",
   "id": "9df1f02c-4485-4ac3-bac1-2c9f1462666c",
   "metadata": {},
   "source": [
    "This a simple arithmetic expression to mutiply then add integers"
   ]
  },
  {
   "cell_type": "code",
   "execution_count": 13,
   "id": "2acdbe5f-75ba-4273-a312-47f994121a32",
   "metadata": {
    "tags": []
   },
   "outputs": [
    {
     "data": {
      "text/plain": [
       "17"
      ]
     },
     "execution_count": 13,
     "metadata": {},
     "output_type": "execute_result"
    }
   ],
   "source": [
    "(3*4)+5"
   ]
  },
  {
   "cell_type": "markdown",
   "id": "cfbf411d-01e6-4568-90e9-cd0c8e22996f",
   "metadata": {},
   "source": [
    "This will convert 200 minutes to hours by diving by 60"
   ]
  },
  {
   "cell_type": "code",
   "execution_count": 14,
   "id": "ce75b881-0f6d-4447-8093-fac2cac65126",
   "metadata": {
    "tags": []
   },
   "outputs": [
    {
     "name": "stdout",
     "output_type": "stream",
     "text": [
      "200 minutes is 3.3333333333333335 hours.\n"
     ]
    }
   ],
   "source": [
    "def min_to_hours(minutes):\n",
    "    print(f\"{minutes} minutes is {minutes/60} hours.\")\n",
    "    \n",
    "min_to_hours(200)"
   ]
  },
  {
   "cell_type": "markdown",
   "id": "92424a24-3102-4978-8f9a-d30946b14489",
   "metadata": {
    "tags": []
   },
   "source": [
    "## Author\n",
    "Josh G."
   ]
  }
 ],
 "metadata": {
  "kernelspec": {
   "display_name": "Python 3 (ipykernel)",
   "language": "python",
   "name": "python3"
  },
  "language_info": {
   "codemirror_mode": {
    "name": "ipython",
    "version": 3
   },
   "file_extension": ".py",
   "mimetype": "text/x-python",
   "name": "python",
   "nbconvert_exporter": "python",
   "pygments_lexer": "ipython3",
   "version": "3.11.4"
  }
 },
 "nbformat": 4,
 "nbformat_minor": 5
}
